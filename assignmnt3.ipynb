{
 "cells": [
  {
   "cell_type": "markdown",
   "id": "78268cb4",
   "metadata": {},
   "source": [
    "# WEB SCRAPING-ASSIGNMENT3"
   ]
  },
  {
   "cell_type": "markdown",
   "id": "376185de",
   "metadata": {},
   "source": [
    "3. Write a python program to access the search bar and search button on images.google.com and scrape 10 \n",
    "images each for keywords ‘fruits’, ‘cars’ and ‘Machine Learning’, ‘Guitar’, ‘Cakes’. "
   ]
  },
  {
   "cell_type": "code",
   "execution_count": 1,
   "id": "2dd25182",
   "metadata": {},
   "outputs": [],
   "source": [
    "# import libraries\n",
    "import urllib\n",
    "import os #to create directory\n",
    "import selenium\n",
    "from selenium import webdriver\n",
    "import time\n",
    "import pandas as pd\n",
    "from selenium.common.exceptions import NoSuchElementException \n",
    " \n",
    "import warnings\n",
    "warnings.filterwarnings('ignore')\n",
    "from selenium.webdriver.common.by import By"
   ]
  },
  {
   "cell_type": "code",
   "execution_count": 2,
   "id": "3dd5d49d",
   "metadata": {},
   "outputs": [],
   "source": [
    "driver=webdriver.Chrome()"
   ]
  },
  {
   "cell_type": "code",
   "execution_count": 3,
   "id": "98381b18",
   "metadata": {},
   "outputs": [],
   "source": [
    "driver.get(\"https://images.google.com/?gws_rd=ssl\")"
   ]
  },
  {
   "cell_type": "code",
   "execution_count": 8,
   "id": "d22f3370",
   "metadata": {},
   "outputs": [],
   "source": [
    "#search for fruits\n",
    "search_bar=driver.find_element(By.XPATH,'//textarea[@class=\"gLFyf\"]')\n",
    "search_bar.send_keys('Fruits')\n",
    "time.sleep(2)"
   ]
  },
  {
   "cell_type": "code",
   "execution_count": 9,
   "id": "f268c4f4",
   "metadata": {},
   "outputs": [],
   "source": [
    "search_button=driver.find_element(By.XPATH,'//div[@class=\"CcAdNb\"]')\n",
    "search_button.click()"
   ]
  },
  {
   "cell_type": "code",
   "execution_count": 10,
   "id": "b1e6200b",
   "metadata": {},
   "outputs": [],
   "source": [
    "#scroll the page thrice to fetch upto 100 images\n",
    "for i in range(0,3):\n",
    "    driver.execute_script(\"window.scrollBy(0,document.body.scrollHeight)\")"
   ]
  },
  {
   "cell_type": "code",
   "execution_count": 11,
   "id": "d7f5d1a6",
   "metadata": {},
   "outputs": [],
   "source": [
    "#collect all image urls\n",
    "images=driver.find_elements(By.XPATH,'//img[@class=\"rg_i Q4LuWd\"]')"
   ]
  },
  {
   "cell_type": "code",
   "execution_count": 13,
   "id": "c6e92445",
   "metadata": {},
   "outputs": [
    {
     "name": "stdout",
     "output_type": "stream",
     "text": [
      "Number of images downloaded = 60\r"
     ]
    }
   ],
   "source": [
    "#fruit images\n",
    "#make a folder to save the images\n",
    "try:\n",
    "    os.mkdir(\"fruit_images\")\n",
    "except FileExistsError:\n",
    "    pass\n",
    "\n",
    "count = 0\n",
    "for i in images[0:60]: #as we need only 60 images \n",
    "    src=i.get_attribute('src')\n",
    "    count+=1\n",
    "    #download the image from url-->save to folder-->with image.count.jpg format\n",
    "    urllib.request.urlretrieve(src, os.path.join('fruit_images','image'+str(count)+'.jpg')) \n",
    "    print(\"Number of images downloaded = \"+str(count),end='\\r')\n",
    "#check the downloaded images in your cwd and folder named fruit images"
   ]
  },
  {
   "cell_type": "code",
   "execution_count": 14,
   "id": "2f7e7635",
   "metadata": {},
   "outputs": [],
   "source": [
    "#Downloading images of car\n",
    "# step 1: visit the google images page\n",
    "driver.get(\"https://images.google.com/?gws_rd=ssl\")"
   ]
  },
  {
   "cell_type": "code",
   "execution_count": 16,
   "id": "70f24e6f",
   "metadata": {},
   "outputs": [],
   "source": [
    "#search for cars\n",
    "search_bar=driver.find_element(By.XPATH,'//textarea[@class=\"gLFyf\"]')\n",
    "search_bar.send_keys(\"Cars\")\n",
    "time.sleep(1)"
   ]
  },
  {
   "cell_type": "code",
   "execution_count": 19,
   "id": "2c6a1409",
   "metadata": {},
   "outputs": [],
   "source": [
    "#click on the search button\n",
    "search_button=driver.find_element(By.XPATH,'//div[@class=\"a4bIc\"]')\n",
    "search_button.click()"
   ]
  },
  {
   "cell_type": "code",
   "execution_count": 20,
   "id": "50279a77",
   "metadata": {},
   "outputs": [],
   "source": [
    "#scroll the page thrice to fetch upto 50 images\n",
    "for i in range(0,4):\n",
    "    driver.execute_script(\"window.scrollBy(0,document.body.scrollHeight)\")"
   ]
  },
  {
   "cell_type": "code",
   "execution_count": 22,
   "id": "b73f6514",
   "metadata": {},
   "outputs": [],
   "source": [
    "#collect all the image urls\n",
    "car_images=driver.find_elements(By.XPATH,'//img[@class=\"rg_i Q4LuWd\"]')"
   ]
  },
  {
   "cell_type": "code",
   "execution_count": 23,
   "id": "3ab7fcbf",
   "metadata": {},
   "outputs": [
    {
     "name": "stdout",
     "output_type": "stream",
     "text": [
      "Number of images downloaded = 50\r"
     ]
    }
   ],
   "source": [
    "#make a folder to save the images\n",
    "try:\n",
    "    os.mkdir(\"car_images\")\n",
    "except FileExistsError:\n",
    "    pass\n",
    "#download the image\n",
    "count = 0\n",
    "for i in car_images[0:50]:\n",
    "    src=i.get_attribute('src')\n",
    "    count+=1\n",
    "    urllib.request.urlretrieve(src, os.path.join('car_images','image'+str(count)+'.jpg'))\n",
    "    print(\"Number of images downloaded = \"+str(count),end='\\r')"
   ]
  },
  {
   "cell_type": "code",
   "execution_count": 32,
   "id": "4d591856",
   "metadata": {},
   "outputs": [],
   "source": [
    "#Downloading machine learning images\n",
    "\n",
    "# step 1: visit the google images page\n",
    "driver.get(\"https://images.google.com/?gws_rd=ssl\")"
   ]
  },
  {
   "cell_type": "code",
   "execution_count": 33,
   "id": "9a89936e",
   "metadata": {},
   "outputs": [],
   "source": [
    "#search for machine learning images\n",
    "search_bar=driver.find_element(By.XPATH,'//textarea[@class=\"gLFyf\"]')\n",
    "search_bar.send_keys(\"Machine Learning\")\n",
    "time.sleep(1)"
   ]
  },
  {
   "cell_type": "code",
   "execution_count": 34,
   "id": "773691d6",
   "metadata": {},
   "outputs": [],
   "source": [
    "#click on the search button\n",
    "search_button=driver.find_element(By.XPATH,'//span[@class=\"z1asCe MZy1Rb\"]')\n",
    "search_button.click()"
   ]
  },
  {
   "cell_type": "code",
   "execution_count": 35,
   "id": "affe7bff",
   "metadata": {},
   "outputs": [],
   "source": [
    "#scroll the page\n",
    "for i in range(0,4):\n",
    "    driver.execute_script(\"window.scrollBy(0,document.body.scrollHeight)\")"
   ]
  },
  {
   "cell_type": "code",
   "execution_count": 37,
   "id": "f04a4742",
   "metadata": {},
   "outputs": [
    {
     "name": "stdout",
     "output_type": "stream",
     "text": [
      "Number of images downloaded = 50\r"
     ]
    }
   ],
   "source": [
    "#collect all the image urls\n",
    "ML_images=driver.find_elements(By.XPATH,'//img[@class=\"rg_i Q4LuWd\"]')\n",
    "\n",
    "#make a folder to save the images\n",
    "try:\n",
    "    os.mkdir(\"ML_images\")\n",
    "except FileExistsError:\n",
    "    pass\n",
    "#download the image from url-->save to folder-->with image.count.jpg format\n",
    "count = 0\n",
    "for i in ML_images[0:50]:\n",
    "    src=i.get_attribute('src')\n",
    "    count+=1\n",
    "    urllib.request.urlretrieve(src, os.path.join('ML_images','image'+str(count)+'.jpg'))\n",
    "    print(\"Number of images downloaded = \"+str(count),end='\\r')"
   ]
  },
  {
   "cell_type": "code",
   "execution_count": null,
   "id": "3cd7148c",
   "metadata": {},
   "outputs": [],
   "source": []
  },
  {
   "cell_type": "markdown",
   "id": "9e4388f9",
   "metadata": {},
   "source": [
    "4. Write a python program to search for a smartphone(e.g.: Oneplus Nord, pixel 4A, etc.) on www.flipkart.com\n",
    "and scrape following details for all the search results displayed on 1st page. Details to be scraped: “Brand \n",
    "Name”, “Smartphone name”, “Colour”, “RAM”, “Storage(ROM)”, “Primary Camera”, \n",
    "“Secondary Camera”, “Display Size”, “Battery Capacity”, “Price”, “Product URL”. Incase if any of the \n",
    "details is missing then replace it by “- “. Save your results in a dataframe and CSV"
   ]
  },
  {
   "cell_type": "code",
   "execution_count": null,
   "id": "a391db69",
   "metadata": {},
   "outputs": [],
   "source": [
    "# import libraries\n",
    "import urllib\n",
    "import os #to create directory\n",
    "import selenium\n",
    "from selenium import webdriver\n",
    "import time\n",
    "import pandas as pd\n",
    "from selenium.common.exceptions import NoSuchElementException \n",
    " \n",
    "import warnings\n",
    "warnings.filterwarnings('ignore')\n",
    "from selenium.webdriver.common.by import By\n",
    "from selenium.common.exceptions import AttributeError"
   ]
  },
  {
   "cell_type": "code",
   "execution_count": 21,
   "id": "46adf327",
   "metadata": {},
   "outputs": [],
   "source": [
    "driver=webdriver.Chrome()"
   ]
  },
  {
   "cell_type": "code",
   "execution_count": 22,
   "id": "12e31c57",
   "metadata": {},
   "outputs": [],
   "source": [
    "driver.get(\"http://www.flipkart.com/\")"
   ]
  },
  {
   "cell_type": "code",
   "execution_count": 23,
   "id": "925eda5d",
   "metadata": {},
   "outputs": [],
   "source": [
    "search_bar=driver.find_element(By.XPATH,'//div[@class=\"_2SmNnR\"]/input')\n",
    "search_bar.send_keys(\"smartphone\")"
   ]
  },
  {
   "cell_type": "code",
   "execution_count": 24,
   "id": "f977db5d",
   "metadata": {},
   "outputs": [],
   "source": [
    "search_button=driver.find_element(By.XPATH,'//button[@class=\"_2iLD__\"]')\n",
    "search_button.click()"
   ]
  },
  {
   "cell_type": "code",
   "execution_count": 25,
   "id": "e84116ac",
   "metadata": {},
   "outputs": [
    {
     "data": {
      "text/plain": [
       "['https://www.flipkart.com/motorola-g34-5g-ocean-green-128-gb/p/itm6b1a33b9d9191?pid=MOBGUFK4TZ2CJYHJ&lid=LSTMOBGUFK4TZ2CJYHJPBUF6M&marketplace=FLIPKART&q=smartphone&store=tyy%2F4io&spotlightTagId=BestsellerId_tyy%2F4io&srno=s_1_1&otracker=search&otracker1=search&fm=Search&iid=8ea5375d-d6ec-46e1-aae8-bdde21f72ab0.MOBGUFK4TZ2CJYHJ.SEARCH&ppt=sp&ppn=sp&ssid=82atnlx6s00000001711175447084&qH=1036ba3c4ed2c021',\n",
       " 'https://www.flipkart.com/poco-c55-power-black-64-gb/p/itme567bcd596fe9?pid=MOBGMXSW9PHJVQCA&lid=LSTMOBGMXSW9PHJVQCALTZQ3D&marketplace=FLIPKART&q=smartphone&store=tyy%2F4io&srno=s_1_2&otracker=search&otracker1=search&fm=organic&iid=8ea5375d-d6ec-46e1-aae8-bdde21f72ab0.MOBGMXSW9PHJVQCA.SEARCH&ppt=hp&ppn=homepage&ssid=82atnlx6s00000001711175447084&qH=1036ba3c4ed2c021']"
      ]
     },
     "execution_count": 25,
     "metadata": {},
     "output_type": "execute_result"
    }
   ],
   "source": [
    "#grab all the url links of smart phones to go next page\n",
    "url_list=[]\n",
    "for i in driver.find_elements(By.XPATH,'//a[@class=\"_1fQZEK\"]'):\n",
    "    url_list.append(i.get_attribute(\"href\"))\n",
    "url_list[0:2]"
   ]
  },
  {
   "cell_type": "code",
   "execution_count": 42,
   "id": "072eaee8",
   "metadata": {},
   "outputs": [
    {
     "ename": "AttributeError",
     "evalue": "'list' object has no attribute 'text'",
     "output_type": "error",
     "traceback": [
      "\u001b[1;31m---------------------------------------------------------------------------\u001b[0m",
      "\u001b[1;31mAttributeError\u001b[0m                            Traceback (most recent call last)",
      "Cell \u001b[1;32mIn[42], line 26\u001b[0m\n\u001b[0;32m     25\u001b[0m     brand\u001b[38;5;241m=\u001b[39mdriver\u001b[38;5;241m.\u001b[39mfind_elements(By\u001b[38;5;241m.\u001b[39mXPATH,\u001b[38;5;124m'\u001b[39m\u001b[38;5;124m//span[@class=\u001b[39m\u001b[38;5;124m\"\u001b[39m\u001b[38;5;124mB_NuCI\u001b[39m\u001b[38;5;124m\"\u001b[39m\u001b[38;5;124m]\u001b[39m\u001b[38;5;124m'\u001b[39m)\n\u001b[1;32m---> 26\u001b[0m     brand_list\u001b[38;5;241m.\u001b[39mappend(brand\u001b[38;5;241m.\u001b[39mtext)\n\u001b[0;32m     27\u001b[0m \u001b[38;5;28;01mexcept\u001b[39;00m \u001b[38;5;167;01mAttributeError\u001b[39;00m:\n\u001b[0;32m     28\u001b[0m \u001b[38;5;66;03m#smartphone name\u001b[39;00m\n",
      "\u001b[1;31mAttributeError\u001b[0m: 'list' object has no attribute 'text'",
      "\nDuring handling of the above exception, another exception occurred:\n",
      "\u001b[1;31mAttributeError\u001b[0m                            Traceback (most recent call last)",
      "Cell \u001b[1;32mIn[42], line 30\u001b[0m\n\u001b[0;32m     27\u001b[0m \u001b[38;5;28;01mexcept\u001b[39;00m \u001b[38;5;167;01mAttributeError\u001b[39;00m:\n\u001b[0;32m     28\u001b[0m \u001b[38;5;66;03m#smartphone name\u001b[39;00m\n\u001b[0;32m     29\u001b[0m     title\u001b[38;5;241m=\u001b[39mdriver\u001b[38;5;241m.\u001b[39mfind_elements(By\u001b[38;5;241m.\u001b[39mXPATH,\u001b[38;5;124m'\u001b[39m\u001b[38;5;124m//span[@class=\u001b[39m\u001b[38;5;124m\"\u001b[39m\u001b[38;5;124mB_NuCI\u001b[39m\u001b[38;5;124m\"\u001b[39m\u001b[38;5;124m]\u001b[39m\u001b[38;5;124m'\u001b[39m)\n\u001b[1;32m---> 30\u001b[0m     smartphone\u001b[38;5;241m.\u001b[39mappend(title\u001b[38;5;241m.\u001b[39mtext)\n\u001b[0;32m     31\u001b[0m \u001b[38;5;66;03m#click on read more button to get all specifications\u001b[39;00m\n\u001b[0;32m     32\u001b[0m     read_more\u001b[38;5;241m=\u001b[39mdriver\u001b[38;5;241m.\u001b[39mfind_elements(By\u001b[38;5;241m.\u001b[39mXPATH,\u001b[38;5;124m'\u001b[39m\u001b[38;5;124m//button[@class=\u001b[39m\u001b[38;5;124m\"\u001b[39m\u001b[38;5;124m_2KpZ6l _1FH0tX\u001b[39m\u001b[38;5;124m\"\u001b[39m\u001b[38;5;124m]\u001b[39m\u001b[38;5;124m'\u001b[39m)\n",
      "\u001b[1;31mAttributeError\u001b[0m: 'list' object has no attribute 'text'"
     ]
    }
   ],
   "source": [
    "#go to the link of each mobile phone and extract the details required\n",
    "\n",
    "#create empty lists\n",
    "brand_list=[]\n",
    "smartphone=[]\n",
    "color_list=[]\n",
    "ram_list=[]\n",
    "rom_list=[]\n",
    "primary_camera_list=[]\n",
    "secondary_camera_list=[]\n",
    "display_list=[]\n",
    "resolution_list=[]\n",
    "processor_list=[]\n",
    "processor_core_list=[]\n",
    "battery_list=[]\n",
    "price_list=[]\n",
    "product_url=[]\n",
    "\n",
    "\n",
    "#go to each mobile's link\n",
    "for a in url_list:\n",
    "    driver.get(a)\n",
    "    #brand (as the brand is not mentioned on web page we will scrap phone name only as brand)\n",
    "    try:\n",
    "        brand=driver.find_elements(By.XPATH,'//span[@class=\"B_NuCI\"]')\n",
    "        brand_list.append(brand.text)\n",
    "    except AttributeError:\n",
    "    #smartphone name\n",
    "        title=driver.find_elements(By.XPATH,'//span[@class=\"B_NuCI\"]')\n",
    "        smartphone.append(title.text)\n",
    "    #click on read more button to get all specifications\n",
    "        read_more=driver.find_elements(By.XPATH,'//button[@class=\"_2KpZ6l _1FH0tX\"]')\n",
    "        read_more.click()\n",
    "    #color\n",
    "        color=driver.find_elements(By.XPATH,'//table[@class=\"_14cfVK\"]/tbody/tr[4]/td[2]')\n",
    "        color_list.append(color.text)\n",
    "    #ram\n",
    "    try:\n",
    "        ram=driver.find_elements(By.XPATH,\"//div[@class='_1UhVsV']/div[4]/table/tbody/tr[2]/td[2]/ul/li[contains(text(),'GB')]\")\n",
    "        ram_list.append(ram.text) \n",
    "    except NoSuchElementException as e:\n",
    "        ram_list.append(\"--\") \n",
    "    #storage/rom\n",
    "    try:\n",
    "        rom=driver.find_elements(By.XPATH,\"//div[@class='_1UhVsV']/div[4]/table/tbody/tr[1]/td[2]/ul/li[contains(text(),'GB')]\")\n",
    "        rom_list.append(rom.text)\n",
    "    except NoSuchElementException as e:\n",
    "        rom_list.append(\"--\")\n",
    "    #primary camera (handling exception)\n",
    "    try:\n",
    "        pcam=driver.find_elements(By.XPATH,\"//div[@class='_1UhVsV']/div[5]/table/tbody/tr[2]/td[2]/ul/li[contains(text(),'MP')]\")\n",
    "        primary_camera_list.append(pcam.text)\n",
    "    except NoSuchElementException as e:\n",
    "        primary_camera_list.append(\"--\")\n",
    "    #secondary camera (handling exception)\n",
    "    try:\n",
    "        scam=driver.find_elements(By.XPATH,\"//div[@class='_1UhVsV']/div[5]/table/tbody/tr[5]/td[2]/ul/li[contains(text(),'MP')]\")\n",
    "        secondary_camera_list.append(scam.text) \n",
    "    except NoSuchElementException as e:\n",
    "        secondary_camera_list.append(\"--\") \n",
    "    #display\n",
    "    try:\n",
    "        display=driver.find_elements(By.XPATH,\"//div[@class='_1UhVsV']/div[2]/table/tbody/tr[1]/td[2]/ul/li[contains(text(),'inch')]\")\n",
    "        display_list.append(display.text) \n",
    "    except NoSuchElementException as e:\n",
    "        display_list.append(\"--\")\n",
    "    #resolution\n",
    "    try:\n",
    "        resolution=driver.find_elements(By.XPATH,\"//div[@class='_1UhVsV']/div[2]/table/tbody/tr[2]/td[2]/ul/li[contains(text(),'x')]\")\n",
    "        resolution_list.append(resolution.text) \n",
    "    except NoSuchElementException as e:\n",
    "        resolution_list.append(\"--\")\n",
    "    #processor type\n",
    "    processor=driver.find_elements(By.XPATH,\"//div[@class='_1UhVsV']/div[3]/table/tbody/tr[2]/td[2]/ul/li\")\n",
    "    if processor.text=='Octa Core':\n",
    "        processor_list.append(\"--\")\n",
    "    elif processor.text==\"1792 x 828 Pixels\":\n",
    "        processor_list.append(\"--\")\n",
    "    else:\n",
    "        processor_list.append(processor.text)\n",
    "    #processor core\n",
    "    try:\n",
    "        core=driver.find_elements(By.XPATH,\"//div[@class='_1UhVsV']/div[3]/table/tbody/tr[3]/td[2]/ul/li[contains(text(),'Core')]\")\n",
    "        processor_core_list.append(core.text) \n",
    "    except NoSuchElementException as e:\n",
    "        processor_core_list.append(\"--\") \n",
    "    #battery\n",
    "    try:\n",
    "        battery=driver.find_elements(By.XPATH,\"//div[@class='_1UhVsV']/div[9]/table/tbody/tr/td[2]/ul/li[contains(text(),'mAh')]\")\n",
    "        battery_list.append(battery.text) \n",
    "    except NoSuchElementException as e:\n",
    "        battery_list.append(\"--\") \n",
    "    #price\n",
    "    price=driver.find_elements(By.XPATH,'//div[@class=\"_30jeq3 _1_WHN1\"]')\n",
    "    price_list.append(price.text)\n",
    "    #product url\n",
    "    img=driver.find_elements(By.XPATH,'//div[@class=\"CXW8mj\"]/img')\n",
    "    product_url.append(img.get_attribute(\"src\"))\n",
    "    \n",
    "#view the output    \n",
    "print(color_list[0:2])\n",
    "print(brand_list[0:2])\n",
    "print(smartphone[0:2])\n",
    "print(ram_list[0:2])\n",
    "print(rom_list[0:2])\n",
    "print(primary_camera_list[0:2])\n",
    "print(secondary_camera_list[0:2])\n",
    "print(display_list[0:2])\n",
    "print(resolution_list[0:2])\n",
    "print(processor_list[0:2])\n",
    "print(processor_core_list[0:2])\n",
    "print(battery_list[0:2])\n",
    "print(price_list[0:2])\n",
    "print(product_url[0:2])"
   ]
  },
  {
   "cell_type": "code",
   "execution_count": null,
   "id": "9d64073d",
   "metadata": {},
   "outputs": [],
   "source": []
  },
  {
   "cell_type": "markdown",
   "id": "5413fbfa",
   "metadata": {},
   "source": [
    "5. Write a program to scrap geospatial coordinates (latitude, longitude) of a city searched on google maps."
   ]
  },
  {
   "cell_type": "code",
   "execution_count": 91,
   "id": "af6a56c9",
   "metadata": {},
   "outputs": [],
   "source": [
    "# import libraries\n",
    "import urllib\n",
    "import os #to create directory\n",
    "import selenium\n",
    "from selenium import webdriver\n",
    "import time\n",
    "import pandas as pd\n",
    "from selenium.common.exceptions import NoSuchElementException \n",
    " \n",
    "import warnings\n",
    "warnings.filterwarnings('ignore')\n",
    "from selenium.webdriver.common.by import By"
   ]
  },
  {
   "cell_type": "code",
   "execution_count": 92,
   "id": "c3a82c04",
   "metadata": {},
   "outputs": [],
   "source": [
    "driver=webdriver.Chrome()"
   ]
  },
  {
   "cell_type": "code",
   "execution_count": 93,
   "id": "db643482",
   "metadata": {},
   "outputs": [],
   "source": [
    "driver.get(\"https://www.google.com/maps/@18.4781013,73.9242248,15z\")"
   ]
  },
  {
   "cell_type": "code",
   "execution_count": 94,
   "id": "03af9fc6",
   "metadata": {},
   "outputs": [],
   "source": [
    "#find the search box\n",
    "time.sleep(1)\n",
    "search_box=driver.find_element(By.XPATH,'//input[@class=\"searchboxinput xiQnY\"]')"
   ]
  },
  {
   "cell_type": "code",
   "execution_count": 95,
   "id": "06ef21b9",
   "metadata": {},
   "outputs": [
    {
     "name": "stdout",
     "output_type": "stream",
     "text": [
      "Which city would you like to search?\n",
      "Pune\n"
     ]
    }
   ],
   "source": [
    "#taking user input\n",
    "print(\"Which city would you like to search?\")\n",
    "city = input()"
   ]
  },
  {
   "cell_type": "code",
   "execution_count": 99,
   "id": "1357cfeb",
   "metadata": {},
   "outputs": [],
   "source": [
    "#send the keys\n",
    "search_box.clear()\n",
    "search_box.send_keys(city)\n",
    "time.sleep(1)"
   ]
  },
  {
   "cell_type": "code",
   "execution_count": 100,
   "id": "753fdea6",
   "metadata": {},
   "outputs": [],
   "source": [
    "#click on the search button\n",
    "search_button=driver.find_element(By.XPATH,'//button[@class=\"mL3xi\"]')\n",
    "search_button.click()\n",
    "time.sleep(2)"
   ]
  },
  {
   "cell_type": "code",
   "execution_count": 101,
   "id": "5257a6aa",
   "metadata": {},
   "outputs": [],
   "source": [
    "#getting the xpath of url of searched city\n",
    "url=driver.find_element(By.XPATH,'//a[@class=\"gb_Od gb_Ba gb_me\"]')\n",
    "time.sleep(2)"
   ]
  },
  {
   "cell_type": "code",
   "execution_count": 102,
   "id": "29c95b12",
   "metadata": {},
   "outputs": [
    {
     "data": {
      "text/plain": [
       "'https://accounts.google.com/ServiceLogin?hl=en&passive=true&continue=https%3A%2F%2Fwww.google.com%2Fmaps%2Fplace%2FPune%2C%2BMaharashtra%2F%4018.524545%2C73.6981501%2C11z%2Fdata%3D!4m6!3m5!1s0x3bc2bf2e67461101%3A0x828d43bf9d9ee343!8m2!3d18.5204303!4d73.8567437!16zL20vMDE1eTJx%3Fentry%3Dttu&service=local&ec=GAZAcQ'"
      ]
     },
     "execution_count": 102,
     "metadata": {},
     "output_type": "execute_result"
    }
   ],
   "source": [
    "#get url\n",
    "a=url.get_attribute(\"href\")\n",
    "a"
   ]
  },
  {
   "cell_type": "code",
   "execution_count": 103,
   "id": "b074379e",
   "metadata": {},
   "outputs": [
    {
     "data": {
      "text/plain": [
       "'18.524545'"
      ]
     },
     "execution_count": 103,
     "metadata": {},
     "output_type": "execute_result"
    }
   ],
   "source": [
    "#getting latitude from the url\n",
    "latitude=a.replace(\"//\",\"\").split(\"2F%40\")[1].split(\"%2C\")[0]\n",
    "latitude"
   ]
  },
  {
   "cell_type": "code",
   "execution_count": 104,
   "id": "6f63d4f6",
   "metadata": {},
   "outputs": [
    {
     "data": {
      "text/plain": [
       "'73.6981501'"
      ]
     },
     "execution_count": 104,
     "metadata": {},
     "output_type": "execute_result"
    }
   ],
   "source": [
    "#extracting longitude from url\n",
    "longitude=a.replace(\"//\",\"\").split(\"%2C\")[2]\n",
    "longitude"
   ]
  },
  {
   "cell_type": "code",
   "execution_count": 105,
   "id": "78ffe78f",
   "metadata": {},
   "outputs": [
    {
     "data": {
      "text/html": [
       "<div>\n",
       "<style scoped>\n",
       "    .dataframe tbody tr th:only-of-type {\n",
       "        vertical-align: middle;\n",
       "    }\n",
       "\n",
       "    .dataframe tbody tr th {\n",
       "        vertical-align: top;\n",
       "    }\n",
       "\n",
       "    .dataframe thead th {\n",
       "        text-align: right;\n",
       "    }\n",
       "</style>\n",
       "<table border=\"1\" class=\"dataframe\">\n",
       "  <thead>\n",
       "    <tr style=\"text-align: right;\">\n",
       "      <th></th>\n",
       "      <th>City</th>\n",
       "      <th>Latitude</th>\n",
       "      <th>Longitude</th>\n",
       "    </tr>\n",
       "  </thead>\n",
       "  <tbody>\n",
       "    <tr>\n",
       "      <th>0</th>\n",
       "      <td>Pune</td>\n",
       "      <td>18.524545</td>\n",
       "      <td>73.6981501</td>\n",
       "    </tr>\n",
       "  </tbody>\n",
       "</table>\n",
       "</div>"
      ],
      "text/plain": [
       "   City   Latitude   Longitude\n",
       "0  Pune  18.524545  73.6981501"
      ]
     },
     "execution_count": 105,
     "metadata": {},
     "output_type": "execute_result"
    }
   ],
   "source": [
    "#create dataframe\n",
    "google_map_df=pd.DataFrame({})\n",
    "google_map_df[\"City\"]=[city]\n",
    "google_map_df[\"Latitude\"]=[latitude]\n",
    "google_map_df[\"Longitude\"]=[longitude]\n",
    "google_map_df"
   ]
  }
 ],
 "metadata": {
  "kernelspec": {
   "display_name": "Python 3 (ipykernel)",
   "language": "python",
   "name": "python3"
  },
  "language_info": {
   "codemirror_mode": {
    "name": "ipython",
    "version": 3
   },
   "file_extension": ".py",
   "mimetype": "text/x-python",
   "name": "python",
   "nbconvert_exporter": "python",
   "pygments_lexer": "ipython3",
   "version": "3.11.3"
  }
 },
 "nbformat": 4,
 "nbformat_minor": 5
}
